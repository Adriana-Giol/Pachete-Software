{
 "cells": [
  {
   "cell_type": "code",
   "execution_count": 2,
   "metadata": {},
   "outputs": [
    {
     "name": "stdout",
     "output_type": "stream",
     "text": [
      "Lista de actori ai serialului Love Rain este:\n",
      "['Adriana']\n"
     ]
    }
   ],
   "source": [
    "#Sursa: Proiect Diana\n",
    "\n",
    "#LUCRUL CU LISTE -> [\" \"]\n",
    "#1. Creare Lista Actori\n",
    "actoriLoveRain = [\"Adriana\"]\n",
    "print(\"Lista de actori ai serialului Love Rain este:\")\n",
    "print(actoriLoveRain)"
   ]
  },
  {
   "cell_type": "code",
   "execution_count": 2,
   "metadata": {
    "scrolled": true
   },
   "outputs": [
    {
     "name": "stdout",
     "output_type": "stream",
     "text": [
      "Lungime lista:\n",
      "6\n"
     ]
    }
   ],
   "source": [
    "#2. Lungime lista actori\n",
    "print(\"Lungime lista:\")\n",
    "print(len(actoriLoveRain))"
   ]
  },
  {
   "cell_type": "code",
   "execution_count": 3,
   "metadata": {},
   "outputs": [
    {
     "name": "stdout",
     "output_type": "stream",
     "text": [
      "Dupa adaugarea actritei Hwang BoRa:\n",
      "['Jang Geun Suk', 'Im Yoon Ah', 'Kim Shi Hoo', 'Lee Mi Sook', 'Know In Ha', 'Yoo Hye Ri', 'Hwang BoRa']\n"
     ]
    }
   ],
   "source": [
    "#3.Adaugare actrita Hwang BoRa la sfarsitul listei:\n",
    "actoriLoveRain.append(\"Hwang BoRa\")\n",
    "print(\"Dupa adaugarea actritei Hwang BoRa:\")\n",
    "print(actoriLoveRain)"
   ]
  },
  {
   "cell_type": "code",
   "execution_count": 4,
   "metadata": {},
   "outputs": [
    {
     "name": "stdout",
     "output_type": "stream",
     "text": [
      "Dupa adaugarea actorului Seo In Guk pe pozitia 3:\n",
      "['Jang Geun Suk', 'Im Yoon Ah', 'Kim Shi Hoo', 'Seo In Guk', 'Lee Mi Sook', 'Know In Ha', 'Yoo Hye Ri', 'Hwang BoRa']\n"
     ]
    }
   ],
   "source": [
    "#4. Adaugarea actorului Seo In Guk pe pozitia 3 (numerotarea incepe de la 0)\n",
    "actoriLoveRain.insert(3,\"Seo In Guk\")\n",
    "print(\"Dupa adaugarea actorului Seo In Guk pe pozitia 3:\")\n",
    "print(actoriLoveRain)"
   ]
  },
  {
   "cell_type": "code",
   "execution_count": 5,
   "metadata": {},
   "outputs": [
    {
     "name": "stdout",
     "output_type": "stream",
     "text": [
      "Dupa eliminarea actritei Im Yoon Ah:\n",
      "['Jang Geun Suk', 'Kim Shi Hoo', 'Seo In Guk', 'Lee Mi Sook', 'Know In Ha', 'Yoo Hye Ri', 'Hwang BoRa']\n"
     ]
    }
   ],
   "source": [
    "#5. Eliminarea actritei Im Yoon Ah din lista\n",
    "actoriLoveRain.remove(\"Im Yoon Ah\")\n",
    "print(\"Dupa eliminarea actritei Im Yoon Ah:\")\n",
    "print(actoriLoveRain)"
   ]
  },
  {
   "cell_type": "code",
   "execution_count": 6,
   "metadata": {},
   "outputs": [
    {
     "name": "stdout",
     "output_type": "stream",
     "text": [
      "Dupa inlocuirea primului actor:\n",
      "['Yoo Seung Ho', 'Kim Shi Hoo', 'Seo In Guk', 'Lee Mi Sook', 'Know In Ha', 'Yoo Hye Ri', 'Hwang BoRa']\n"
     ]
    }
   ],
   "source": [
    "#6. Inlocuirea primului actor cu actorul Yoo Seung Ho\n",
    "actoriLoveRain[0]=\"Yoo Seung Ho\"\n",
    "print(\"Dupa inlocuirea primului actor:\")\n",
    "print(actoriLoveRain)"
   ]
  },
  {
   "cell_type": "code",
   "execution_count": 7,
   "metadata": {},
   "outputs": [
    {
     "name": "stdout",
     "output_type": "stream",
     "text": [
      "Dupa inversarea listei de actori:\n",
      "['Hwang BoRa', 'Yoo Hye Ri', 'Know In Ha', 'Lee Mi Sook', 'Seo In Guk', 'Kim Shi Hoo', 'Yoo Seung Ho']\n"
     ]
    }
   ],
   "source": [
    "#7. Inversarea elementelor listei de actori\n",
    "actoriLoveRain.reverse()\n",
    "print(\"Dupa inversarea listei de actori:\")\n",
    "print(actoriLoveRain)"
   ]
  },
  {
   "cell_type": "code",
   "execution_count": 8,
   "metadata": {},
   "outputs": [
    {
     "name": "stdout",
     "output_type": "stream",
     "text": [
      "Actorul de pe pozitia 5 este:\n"
     ]
    },
    {
     "data": {
      "text/plain": [
       "'Kim Shi Hoo'"
      ]
     },
     "execution_count": 8,
     "metadata": {},
     "output_type": "execute_result"
    }
   ],
   "source": [
    "#8. Extragerea actorului de pe pozitia 5 (locul 6 - numerotarea se incepe de la 0)\n",
    "print(\"Actorul de pe pozitia 5 este:\")\n",
    "actoriLoveRain.pop(5)"
   ]
  },
  {
   "cell_type": "code",
   "execution_count": 9,
   "metadata": {},
   "outputs": [
    {
     "name": "stdout",
     "output_type": "stream",
     "text": [
      "Lista de actori se va sterge:\n",
      "[]\n"
     ]
    }
   ],
   "source": [
    "#9. Golire lista\n",
    "actoriLoveRain.clear()\n",
    "print(\"Lista de actori se va sterge:\")\n",
    "print(actoriLoveRain)"
   ]
  },
  {
   "cell_type": "code",
   "execution_count": null,
   "metadata": {},
   "outputs": [],
   "source": []
  },
  {
   "cell_type": "code",
   "execution_count": null,
   "metadata": {},
   "outputs": [],
   "source": []
  }
 ],
 "metadata": {
  "kernelspec": {
   "display_name": "Python 3",
   "language": "python",
   "name": "python3"
  },
  "language_info": {
   "codemirror_mode": {
    "name": "ipython",
    "version": 3
   },
   "file_extension": ".py",
   "mimetype": "text/x-python",
   "name": "python",
   "nbconvert_exporter": "python",
   "pygments_lexer": "ipython3",
   "version": "3.7.6"
  }
 },
 "nbformat": 4,
 "nbformat_minor": 4
}
