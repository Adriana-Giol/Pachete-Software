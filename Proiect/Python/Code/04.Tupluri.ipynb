{
 "cells": [
  {
   "cell_type": "code",
   "execution_count": 1,
   "metadata": {},
   "outputs": [
    {
     "name": "stdout",
     "output_type": "stream",
     "text": [
      "Seriale aparute in 2020:\n",
      "('Memorist', 'The Cursed', 'When the Weather is Fine', 'Forest', 'Dr.Romantic S2')\n"
     ]
    }
   ],
   "source": [
    "#Sursa: Proiect Diana\n",
    "\n",
    "#LUCRUL CU TUPLURI -> (\" \")\n",
    "#1. Crearea tuplului si afisarea lui\n",
    "seriale2020=(\"Memorist\", \"The Cursed\", \"When the Weather is Fine\",\"Forest\", \"Dr.Romantic S2\")\n",
    "print(\"Seriale aparute in 2020:\")\n",
    "print(seriale2020)"
   ]
  },
  {
   "cell_type": "code",
   "execution_count": 2,
   "metadata": {},
   "outputs": [
    {
     "name": "stdout",
     "output_type": "stream",
     "text": [
      "Numarul de ordine al serialului Forest este:\n",
      "4\n"
     ]
    }
   ],
   "source": [
    "#2. Numarul de ordine al serialului \"Forest\"\n",
    "print(\"Numarul de ordine al serialului Forest este:\")\n",
    "print(seriale2020.index(\"Forest\")+1)"
   ]
  },
  {
   "cell_type": "code",
   "execution_count": null,
   "metadata": {},
   "outputs": [],
   "source": []
  }
 ],
 "metadata": {
  "kernelspec": {
   "display_name": "Python 3",
   "language": "python",
   "name": "python3"
  },
  "language_info": {
   "codemirror_mode": {
    "name": "ipython",
    "version": 3
   },
   "file_extension": ".py",
   "mimetype": "text/x-python",
   "name": "python",
   "nbconvert_exporter": "python",
   "pygments_lexer": "ipython3",
   "version": "3.7.6"
  }
 },
 "nbformat": 4,
 "nbformat_minor": 4
}
