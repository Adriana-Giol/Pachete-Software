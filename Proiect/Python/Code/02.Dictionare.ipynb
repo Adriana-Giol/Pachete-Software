{
 "cells": [
  {
   "cell_type": "code",
   "execution_count": 2,
   "metadata": {},
   "outputs": [
    {
     "name": "stdout",
     "output_type": "stream",
     "text": [
      "Dictionar:\n",
      "{'Jun': 'Jang Geun Suk', 'Hana': 'Im Yoon Ah', 'Sun Ho': 'Kim Shi Hoo', 'Yoon Hee': 'Lee Mi Sook', 'Dong Wook': 'Know In Ha', 'Hye Jun': 'Yoo Hye Ri'}\n"
     ]
    }
   ],
   "source": [
    "#Sursa: Proiect Diana\n",
    "\n",
    "#LUCRUL CU DICTIONARE -> {\" \":\" \"}\n",
    "#1. Creare dictionar si afisarea lui\n",
    "roluriLoveRain = {\"Jun\":\"Jang Geun Suk\",\"Hana\":\"Im Yoon Ah\",\"Sun Ho\":\"Kim Shi Hoo\",\n",
    "                  \"Yoon Hee\":\"Lee Mi Sook\",\"Dong Wook\":\"Know In Ha\",\"Hye Jun\":\"Yoo Hye Ri\"}\n",
    "print(\"Dictionar:\")\n",
    "print(roluriLoveRain)"
   ]
  },
  {
   "cell_type": "code",
   "execution_count": 3,
   "metadata": {},
   "outputs": [
    {
     "name": "stdout",
     "output_type": "stream",
     "text": [
      "Rolul Hanei este jucat de actrita:\n",
      "Im Yoon Ah\n"
     ]
    }
   ],
   "source": [
    "#2. Afisarea actritei care joaca rolul Hanei\n",
    "print(\"Rolul Hanei este jucat de actrita:\")\n",
    "print(roluriLoveRain.get(\"Hana\"))"
   ]
  },
  {
   "cell_type": "code",
   "execution_count": 4,
   "metadata": {},
   "outputs": [
    {
     "name": "stdout",
     "output_type": "stream",
     "text": [
      "Corespondenta dintre actori si roluri:\n",
      "dict_items([('Jun', 'Jang Geun Suk'), ('Hana', 'Im Yoon Ah'), ('Sun Ho', 'Kim Shi Hoo'), ('Yoon Hee', 'Lee Mi Sook'), ('Dong Wook', 'Know In Ha'), ('Hye Jun', 'Yoo Hye Ri')])\n"
     ]
    }
   ],
   "source": [
    "#3. Corespondenta dintre actori si roluri\n",
    "print(\"Corespondenta dintre actori si roluri:\")\n",
    "print(roluriLoveRain.items())"
   ]
  },
  {
   "cell_type": "code",
   "execution_count": 5,
   "metadata": {},
   "outputs": [
    {
     "name": "stdout",
     "output_type": "stream",
     "text": [
      "Personajele serialului Love Rain sunt:\n",
      "dict_keys(['Jun', 'Hana', 'Sun Ho', 'Yoon Hee', 'Dong Wook', 'Hye Jun'])\n"
     ]
    }
   ],
   "source": [
    "#4.Personajele serialului Love Rain\n",
    "print(\"Personajele serialului Love Rain sunt:\")\n",
    "print(roluriLoveRain.keys())"
   ]
  },
  {
   "cell_type": "code",
   "execution_count": 6,
   "metadata": {},
   "outputs": [
    {
     "name": "stdout",
     "output_type": "stream",
     "text": [
      "Dupa eliminarea personajului Yoon Hee:\n",
      "{'Jun': 'Jang Geun Suk', 'Hana': 'Im Yoon Ah', 'Sun Ho': 'Kim Shi Hoo', 'Dong Wook': 'Know In Ha', 'Hye Jun': 'Yoo Hye Ri'}\n"
     ]
    }
   ],
   "source": [
    "#5.Eliminarea personajului Yoon Hee\n",
    "print(\"Dupa eliminarea personajului Yoon Hee:\")\n",
    "roluriLoveRain.pop('Yoon Hee')\n",
    "print(roluriLoveRain)"
   ]
  },
  {
   "cell_type": "code",
   "execution_count": 7,
   "metadata": {},
   "outputs": [
    {
     "name": "stdout",
     "output_type": "stream",
     "text": [
      "Actorii serialului Love Rain sunt:\n",
      "dict_values(['Jang Geun Suk', 'Im Yoon Ah', 'Kim Shi Hoo', 'Know In Ha', 'Yoo Hye Ri'])\n"
     ]
    }
   ],
   "source": [
    "#6. Actorii Serialului Love Rain\n",
    "print(\"Actorii serialului Love Rain sunt:\")\n",
    "print(roluriLoveRain.values())"
   ]
  },
  {
   "cell_type": "code",
   "execution_count": null,
   "metadata": {},
   "outputs": [],
   "source": []
  }
 ],
 "metadata": {
  "kernelspec": {
   "display_name": "Python 3",
   "language": "python",
   "name": "python3"
  },
  "language_info": {
   "codemirror_mode": {
    "name": "ipython",
    "version": 3
   },
   "file_extension": ".py",
   "mimetype": "text/x-python",
   "name": "python",
   "nbconvert_exporter": "python",
   "pygments_lexer": "ipython3",
   "version": "3.7.6"
  }
 },
 "nbformat": 4,
 "nbformat_minor": 4
}
