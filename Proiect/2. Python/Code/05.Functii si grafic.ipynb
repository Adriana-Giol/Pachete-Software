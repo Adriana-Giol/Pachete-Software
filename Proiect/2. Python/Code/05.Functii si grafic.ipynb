{
 "cells": [
  {
   "cell_type": "code",
   "execution_count": 2,
   "metadata": {},
   "outputs": [
    {
     "name": "stdout",
     "output_type": "stream",
     "text": [
      "Nume:Yoo Seung Ho,Salariu:150000,Varsta:26,numar scene jucate:415\n",
      "Nume:Park Min Young,Salariu:50000,Varsta:34,numar scene jucate:210\n",
      "Nume:Park Seo Joon,Salariu:170000,Varsta:31,numar scene jucate:356\n",
      "Nume:Lee Jun Ki,Salariu:165000,Varsta:37,numar scene jucate:100\n",
      "Nume:Park Jung Min,Salariu:20000,Varsta:32,numar scene jucate:40\n",
      "\n",
      "\n"
     ]
    }
   ],
   "source": [
    "#Sursa: Proiect Diana\n",
    "\n",
    "#LUCRUL CU FUNCTII, STRUCTURI CONDITIONATE SI REPETITIVE\n",
    "actori=[\"Yoo Seung Ho\", \"Park Min Young\", \"Park Seo Joon\",\"Lee Jun Ki\", \"Park Jung Min\"]\n",
    "salarii=[150000,50000,170000,165000,20000]\n",
    "varste=[26,34,31,37,32]\n",
    "nrScene=[415,210,356,100,40]\n",
    "\n",
    "#1. Functie care parcurge listele si afiseaza datele legate de actori in mod unitar\n",
    "def afisare_actori(actori,salarii,varste,nrScene):\n",
    "    for i in range(len(actori)):\n",
    "        actor='Nume:' +actori[i]+',Salariu:'+str(salarii[i])+',Varsta:'+str(varste[i])+',numar scene jucate:' +str(nrScene[i])\n",
    "        print(actor)\n",
    "afisare_actori(actori,salarii,varste,nrScene)\n",
    "print(\"\\n\")"
   ]
  },
  {
   "cell_type": "code",
   "execution_count": 3,
   "metadata": {},
   "outputs": [
    {
     "name": "stdout",
     "output_type": "stream",
     "text": [
      "Date initiale:\n",
      "Nume:Yoo Seung Ho,Salariu:150000,Varsta:26,numar scene jucate:415\n",
      "Nume:Park Min Young,Salariu:50000,Varsta:34,numar scene jucate:210\n",
      "Nume:Park Seo Joon,Salariu:170000,Varsta:31,numar scene jucate:356\n",
      "Nume:Lee Jun Ki,Salariu:165000,Varsta:37,numar scene jucate:100\n",
      "Nume:Park Jung Min,Salariu:20000,Varsta:32,numar scene jucate:40\n",
      "Date actualizate:\n",
      "Nume:Yoo Seung Ho,Salariu:191500,Varsta:26,numar scene jucate:415\n",
      "Nume:Park Min Young,Salariu:92000,Varsta:34,numar scene jucate:210\n",
      "Nume:Park Seo Joon,Salariu:241200,Varsta:31,numar scene jucate:356\n",
      "Nume:Lee Jun Ki,Salariu:185000,Varsta:37,numar scene jucate:100\n",
      "Nume:Park Jung Min,Salariu:28000,Varsta:32,numar scene jucate:40\n"
     ]
    }
   ],
   "source": [
    "#2. Functie care majoreaza salariile actorilor in felul urmator:\n",
    "        #daca varsta este mai mica de 30 de ani, bonusul va fi de 100 de dolari pentru fiecare scena jucata\n",
    "        #daca varsta este mai mare de 30 de ani, bonusul va fi de 200 de dolari pentru fiecare scena jucata\n",
    "        #daca varsta este mai mare de 40 de ani, bonusul va fi de 300 de dolari pentru fiecare scena jucata\n",
    "\n",
    "def majorare_salarii(salarii, varste, nrScene):\n",
    "    for i in range(len(actori)):\n",
    "        if varste[i]<30:\n",
    "            salarii[i]+=100*nrScene[i]\n",
    "        elif varste[i]>=30 and varste[i]<40:\n",
    "            salarii[i]+=200*nrScene[i]\n",
    "        else:\n",
    "            salarii[i]+=300*nrScene[i]\n",
    "            \n",
    "#3. Functia care afiseaza datele intiale, va majora salariile, iar apoi va afisa datele actualizate\n",
    "def apel_functii(actori,salarii,varste,nrScene):\n",
    "    print(\"Date initiale:\")\n",
    "    afisare_actori(actori,salarii,varste,nrScene)\n",
    "    majorare_salarii(salarii,varste,nrScene)\n",
    "    print(\"Date actualizate:\")\n",
    "    afisare_actori(actori,salarii,varste,nrScene)\n",
    "apel_functii(actori,salarii,varste,nrScene)\n"
   ]
  },
  {
   "cell_type": "code",
   "execution_count": 6,
   "metadata": {},
   "outputs": [
    {
     "data": {
      "image/png": "[encoded data removed]",
      "text/plain": [
       "<Figure size 432x288 with 1 Axes>"
      ]
     },
     "metadata": {},
     "output_type": "display_data"
    }
   ],
   "source": [
    "import pandas as pd\n",
    "import matplotlib.pyplot as plt\n",
    "\n",
    "#4. Functia care genereaza un grafic de tip PieChart referitor la salariile actorilor\n",
    "def generare_piechart(actori,salarii):\n",
    "    cols=['c','m','r','k','b']\n",
    "    plt.pie(salarii, labels=actori, colors=cols)\n",
    "    plt.title('Grafic salarii')\n",
    "    plt.show()\n",
    "generare_piechart(actori,salarii)"
   ]
  },
  {
   "cell_type": "code",
   "execution_count": null,
   "metadata": {},
   "outputs": [],
   "source": []
  }
 ],
 "metadata": {
  "kernelspec": {
   "display_name": "Python 3",
   "language": "python",
   "name": "python3"
  },
  "language_info": {
   "codemirror_mode": {
    "name": "ipython",
    "version": 3
   },
   "file_extension": ".py",
   "mimetype": "text/x-python",
   "name": "python",
   "nbconvert_exporter": "python",
   "pygments_lexer": "ipython3",
   "version": "3.7.6"
  }
 },
 "nbformat": 4,
 "nbformat_minor": 4
}
