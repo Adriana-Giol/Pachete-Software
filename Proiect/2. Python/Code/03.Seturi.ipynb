{
 "cells": [
  {
   "cell_type": "code",
   "execution_count": 1,
   "metadata": {},
   "outputs": [
    {
     "name": "stdout",
     "output_type": "stream",
     "text": [
      "Directori colaboratori in 2019:\n",
      "{'Choi Jung Gyu', 'Jung Dong Yoon', 'Park Yong Soon', 'Lee Chang Min', 'Jo Young Kwang', 'Kim Young Jo'}\n"
     ]
    }
   ],
   "source": [
    "#Sursa: Proiect Diana\n",
    "\n",
    "#LUCRUL CU SETURI -> {\" \"}\n",
    "#1. Crearea unui set care contine directorii care au colaborat cu televiziunea Arirang in 2019\n",
    "setDirectori2019={\"Jo Young Kwang\",\"Park Yong Soon\",\"Lee Chang Min\",\"Choi Jung Gyu\",\"Jung Dong Yoon\",\"Kim Young Jo\"}\n",
    "print(\"Directori colaboratori in 2019:\")\n",
    "print(setDirectori2019)"
   ]
  },
  {
   "cell_type": "code",
   "execution_count": 2,
   "metadata": {},
   "outputs": [
    {
     "name": "stdout",
     "output_type": "stream",
     "text": [
      "Directori colaboratori in 2020:\n",
      "{'Jo Soo Won', 'Park Eun Young', 'Choi Jung Gyu', 'Yoon Sung Shik', 'Kim Young Jo', 'Jung Jung Hwa'}\n"
     ]
    }
   ],
   "source": [
    "#2. Crearea unui set care contine directorii care colaboreaza cu televiziunea Arirang in 2020\n",
    "setDirectori2020={\"Jung Jung Hwa\", \"Choi Jung Gyu\", \"Yoon Sung Shik\", \"Kim Young Jo\",\"Park Eun Young\", \"Jo Soo Won\"}\n",
    "print(\"Directori colaboratori in 2020:\")\n",
    "print(setDirectori2020)"
   ]
  },
  {
   "cell_type": "code",
   "execution_count": 3,
   "metadata": {},
   "outputs": [
    {
     "name": "stdout",
     "output_type": "stream",
     "text": [
      "Update Directori 2020:\n",
      "{'Jo Soo Won', 'Park Eun Young', 'Choi Jung Gyu', 'Park Shin Hye', 'Yoon Sung Shik', 'Kim Young Jo', 'Jung Jung Hwa'}\n"
     ]
    }
   ],
   "source": [
    "#3. Adaugarea unui director nou in lista anului 2020\n",
    "setDirectori2020.add(\"Park Shin Hye\")\n",
    "print(\"Update Directori 2020:\")\n",
    "print(setDirectori2020)"
   ]
  },
  {
   "cell_type": "code",
   "execution_count": 4,
   "metadata": {},
   "outputs": [
    {
     "name": "stdout",
     "output_type": "stream",
     "text": [
      "Directorii adaugati in 2020:\n",
      "{'Jo Soo Won', 'Park Eun Young', 'Park Shin Hye', 'Yoon Sung Shik', 'Jung Jung Hwa'}\n"
     ]
    }
   ],
   "source": [
    "#4. Directorii care au fost adaugati in 2020\n",
    "print(\"Directorii adaugati in 2020:\")\n",
    "print(setDirectori2020.difference(setDirectori2019))"
   ]
  },
  {
   "cell_type": "code",
   "execution_count": 5,
   "metadata": {},
   "outputs": [
    {
     "name": "stdout",
     "output_type": "stream",
     "text": [
      "Directorii care au avut colaborari cu Arirang TV si in 2019, cat si in 2020\n",
      "{'Kim Young Jo', 'Choi Jung Gyu'}\n"
     ]
    }
   ],
   "source": [
    "#5.Directorii care au avut colaborari atat in 2019 cat si in 2020 cu televiziunea Arirang TV\n",
    "print(\"Directorii care au avut colaborari cu Arirang TV si in 2019, cat si in 2020\")\n",
    "print(setDirectori2020.intersection(setDirectori2019))"
   ]
  },
  {
   "cell_type": "code",
   "execution_count": 6,
   "metadata": {},
   "outputs": [
    {
     "name": "stdout",
     "output_type": "stream",
     "text": [
      "Elementele necomune celor 2 seturi:\n",
      "{'Jo Soo Won', 'Park Eun Young', 'Jung Dong Yoon', 'Lee Chang Min', 'Park Yong Soon', 'Jo Young Kwang', 'Park Shin Hye', 'Yoon Sung Shik', 'Jung Jung Hwa'}\n"
     ]
    }
   ],
   "source": [
    "#6.Elementele necomune celor 2 seturi\n",
    "print(\"Elementele necomune celor 2 seturi:\")\n",
    "print(setDirectori2020.symmetric_difference(setDirectori2019))"
   ]
  },
  {
   "cell_type": "code",
   "execution_count": 7,
   "metadata": {},
   "outputs": [
    {
     "name": "stdout",
     "output_type": "stream",
     "text": [
      "Toti directorii:\n",
      "{'Jo Soo Won', 'Park Eun Young', 'Choi Jung Gyu', 'Jung Dong Yoon', 'Park Yong Soon', 'Lee Chang Min', 'Jo Young Kwang', 'Park Shin Hye', 'Yoon Sung Shik', 'Kim Young Jo', 'Jung Jung Hwa'}\n"
     ]
    }
   ],
   "source": [
    "#7. Afisarea tuturor directorilor care au colaborat in 2020 cu ArirangTV\n",
    "totiDirectorii=setDirectori2020.union(setDirectori2019)\n",
    "print(\"Toti directorii:\")\n",
    "print(totiDirectorii)"
   ]
  },
  {
   "cell_type": "code",
   "execution_count": null,
   "metadata": {},
   "outputs": [],
   "source": []
  }
 ],
 "metadata": {
  "kernelspec": {
   "display_name": "Python 3",
   "language": "python",
   "name": "python3"
  },
  "language_info": {
   "codemirror_mode": {
    "name": "ipython",
    "version": 3
   },
   "file_extension": ".py",
   "mimetype": "text/x-python",
   "name": "python",
   "nbconvert_exporter": "python",
   "pygments_lexer": "ipython3",
   "version": "3.7.6"
  }
 },
 "nbformat": 4,
 "nbformat_minor": 4
}
