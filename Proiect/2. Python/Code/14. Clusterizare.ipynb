{
 "cells": [
  {
   "cell_type": "code",
   "execution_count": 78,
   "metadata": {},
   "outputs": [],
   "source": [
    "#CLUSTERIZARE\n",
    "import pandas as pd\n",
    "import numpy as np\n",
    "from sklearn.cluster import KMeans\n",
    "from sklearn.preprocessing import LabelEncoder\n",
    "from sklearn.preprocessing import MinMaxScaler"
   ]
  },
  {
   "cell_type": "code",
   "execution_count": 79,
   "metadata": {
    "scrolled": true
   },
   "outputs": [
    {
     "data": {
      "text/html": [
       "<div>\n",
       "<style scoped>\n",
       "    .dataframe tbody tr th:only-of-type {\n",
       "        vertical-align: middle;\n",
       "    }\n",
       "\n",
       "    .dataframe tbody tr th {\n",
       "        vertical-align: top;\n",
       "    }\n",
       "\n",
       "    .dataframe thead th {\n",
       "        text-align: right;\n",
       "    }\n",
       "</style>\n",
       "<table border=\"1\" class=\"dataframe\">\n",
       "  <thead>\n",
       "    <tr style=\"text-align: right;\">\n",
       "      <th></th>\n",
       "      <th>Top</th>\n",
       "      <th>Actori</th>\n",
       "      <th>Venit</th>\n",
       "      <th>Varsta</th>\n",
       "      <th>Nr filme</th>\n",
       "      <th>Castigator</th>\n",
       "      <th>Nationalitate</th>\n",
       "    </tr>\n",
       "  </thead>\n",
       "  <tbody>\n",
       "    <tr>\n",
       "      <th>0</th>\n",
       "      <td>1</td>\n",
       "      <td>Yoo Seung Ho</td>\n",
       "      <td>191500.0</td>\n",
       "      <td>26.0</td>\n",
       "      <td>52.0</td>\n",
       "      <td>1</td>\n",
       "      <td>Coreeana</td>\n",
       "    </tr>\n",
       "    <tr>\n",
       "      <th>1</th>\n",
       "      <td>2</td>\n",
       "      <td>Park Min Young</td>\n",
       "      <td>92000.0</td>\n",
       "      <td>32.0</td>\n",
       "      <td>50.0</td>\n",
       "      <td>0</td>\n",
       "      <td>Coreeana</td>\n",
       "    </tr>\n",
       "    <tr>\n",
       "      <th>2</th>\n",
       "      <td>3</td>\n",
       "      <td>Park Seo Joon</td>\n",
       "      <td>241200.0</td>\n",
       "      <td>28.0</td>\n",
       "      <td>35.0</td>\n",
       "      <td>1</td>\n",
       "      <td>Coreeana</td>\n",
       "    </tr>\n",
       "    <tr>\n",
       "      <th>3</th>\n",
       "      <td>4</td>\n",
       "      <td>Lee Jun Ki</td>\n",
       "      <td>35000.0</td>\n",
       "      <td>35.0</td>\n",
       "      <td>40.0</td>\n",
       "      <td>1</td>\n",
       "      <td>Coreeana</td>\n",
       "    </tr>\n",
       "    <tr>\n",
       "      <th>4</th>\n",
       "      <td>5</td>\n",
       "      <td>Park Jung Min</td>\n",
       "      <td>NaN</td>\n",
       "      <td>32.0</td>\n",
       "      <td>20.0</td>\n",
       "      <td>1</td>\n",
       "      <td>Coreeana</td>\n",
       "    </tr>\n",
       "  </tbody>\n",
       "</table>\n",
       "</div>"
      ],
      "text/plain": [
       "   Top          Actori     Venit  Varsta  Nr filme  Castigator Nationalitate\n",
       "0    1    Yoo Seung Ho  191500.0    26.0      52.0           1      Coreeana\n",
       "1    2  Park Min Young   92000.0    32.0      50.0           0      Coreeana\n",
       "2    3   Park Seo Joon  241200.0    28.0      35.0           1      Coreeana\n",
       "3    4      Lee Jun Ki   35000.0    35.0      40.0           1      Coreeana\n",
       "4    5   Park Jung Min       NaN    32.0      20.0           1      Coreeana"
      ]
     },
     "execution_count": 79,
     "metadata": {},
     "output_type": "execute_result"
    }
   ],
   "source": [
    "#Citirea din fisierul csv\n",
    "df=pd.read_csv('Actori2.csv')\n",
    "df.head()"
   ]
  },
  {
   "cell_type": "code",
   "execution_count": 80,
   "metadata": {},
   "outputs": [
    {
     "name": "stdout",
     "output_type": "stream",
     "text": [
      "['Top' 'Actori' 'Venit' 'Varsta' 'Nr filme' 'Castigator' 'Nationalitate']\n",
      "      Top  Actori  Venit  Varsta  Nr filme  Castigator  Nationalitate\n",
      "0   False   False  False   False     False       False          False\n",
      "1   False   False  False   False     False       False          False\n",
      "2   False   False  False   False     False       False          False\n",
      "3   False   False  False   False     False       False          False\n",
      "4   False   False   True   False     False       False          False\n",
      "5   False   False  False   False     False       False          False\n",
      "6   False   False  False   False     False       False          False\n",
      "7   False   False  False   False     False       False          False\n",
      "8   False   False  False   False     False       False          False\n",
      "9   False   False  False   False     False       False          False\n",
      "10  False   False  False    True     False       False          False\n",
      "11  False   False   True   False     False       False          False\n",
      "12  False   False  False   False      True       False          False\n",
      "13  False   False  False   False     False       False          False\n",
      "14  False   False  False   False     False       False          False\n",
      "Top              0\n",
      "Actori           0\n",
      "Venit            2\n",
      "Varsta           1\n",
      "Nr filme         1\n",
      "Castigator       0\n",
      "Nationalitate    0\n",
      "dtype: int64\n"
     ]
    }
   ],
   "source": [
    "#Identificarea valorilor lipsa ~ Acolo unde e True valoarea lipseste.\n",
    "print(df.columns.values)\n",
    "print(df.isna())\n",
    "\n",
    "#Facem suma valorilor lipsa\n",
    "print(df.isna().sum())"
   ]
  },
  {
   "cell_type": "code",
   "execution_count": 81,
   "metadata": {},
   "outputs": [
    {
     "name": "stdout",
     "output_type": "stream",
     "text": [
      "Top              0\n",
      "Actori           0\n",
      "Venit            0\n",
      "Varsta           0\n",
      "Nr filme         0\n",
      "Castigator       0\n",
      "Nationalitate    0\n",
      "dtype: int64\n"
     ]
    }
   ],
   "source": [
    "# Înlocuirea valorilor lipsă cu media coloanei, utilizând fillna()\n",
    "df.fillna(df.mean(), inplace=True)\n",
    "print(df.isna().sum())"
   ]
  },
  {
   "cell_type": "code",
   "execution_count": 82,
   "metadata": {},
   "outputs": [
    {
     "name": "stdout",
     "output_type": "stream",
     "text": [
      "*******Venit - Castigator************\n",
      "            Venit  Castigator\n",
      "1    25000.000000           1\n",
      "2    35000.000000           1\n",
      "3    41376.000000           1\n",
      "8    79248.000000           1\n",
      "9    81933.769231           1\n",
      "12  191500.000000           1\n",
      "13  241200.000000           1\n",
      "0    18000.000000           0\n",
      "4    45612.000000           0\n",
      "5    65370.000000           0\n",
      "6    65464.000000           0\n",
      "7    76535.000000           0\n",
      "10   88834.000000           0\n",
      "11   92000.000000           0\n",
      "\n",
      "\n",
      "*******Varsta - Castigator************\n",
      "    Varsta  Castigator\n",
      "0     15.0         1.0\n",
      "2     27.0         1.0\n",
      "3     28.0         1.0\n",
      "5     31.0         1.0\n",
      "9     35.0         1.0\n",
      "12    59.0         1.0\n",
      "1     26.0         0.5\n",
      "6     32.0         0.5\n",
      "4     29.0         0.0\n",
      "7     34.0         0.0\n",
      "8     34.5         0.0\n",
      "10    53.0         0.0\n",
      "11    56.0         0.0\n",
      "\n",
      "\n",
      "*******Nr filme - Castigator************\n",
      "     Nr filme  Castigator\n",
      "0   12.000000         1.0\n",
      "2   20.000000         1.0\n",
      "4   27.000000         1.0\n",
      "5   35.000000         1.0\n",
      "7   40.000000         1.0\n",
      "8   44.000000         1.0\n",
      "10  52.000000         1.0\n",
      "9   50.000000         0.5\n",
      "1   19.000000         0.0\n",
      "3   21.000000         0.0\n",
      "6   38.642857         0.0\n",
      "11  55.000000         0.0\n",
      "12  58.000000         0.0\n"
     ]
    }
   ],
   "source": [
    "# Evaluarea castigatorilor premiilor Korean Drama Award în funcție de Venit, Varsta si Nr filme\n",
    "print(\"*******Venit - Castigator************\")\n",
    "print(df[['Venit', 'Castigator']].groupby(['Venit'], as_index=False).mean().sort_values(by='Castigator', ascending=False))\n",
    "print('\\n')\n",
    "print(\"*******Varsta - Castigator************\")\n",
    "print(df[['Varsta', 'Castigator']].groupby(['Varsta'], as_index=False).mean().sort_values(by='Castigator', ascending=False))\n",
    "print('\\n')\n",
    "print(\"*******Nr filme - Castigator************\")\n",
    "print(df[[\"Nr filme\",\"Castigator\"]].groupby(['Nr filme'], as_index=False).mean().sort_values(by='Castigator', ascending=False))"
   ]
  },
  {
   "cell_type": "code",
   "execution_count": 83,
   "metadata": {},
   "outputs": [
    {
     "data": {
      "text/html": [
       "<div>\n",
       "<style scoped>\n",
       "    .dataframe tbody tr th:only-of-type {\n",
       "        vertical-align: middle;\n",
       "    }\n",
       "\n",
       "    .dataframe tbody tr th {\n",
       "        vertical-align: top;\n",
       "    }\n",
       "\n",
       "    .dataframe thead th {\n",
       "        text-align: right;\n",
       "    }\n",
       "</style>\n",
       "<table border=\"1\" class=\"dataframe\">\n",
       "  <thead>\n",
       "    <tr style=\"text-align: right;\">\n",
       "      <th></th>\n",
       "      <th>Venit</th>\n",
       "      <th>Varsta</th>\n",
       "      <th>Nr filme</th>\n",
       "      <th>Castigator</th>\n",
       "    </tr>\n",
       "  </thead>\n",
       "  <tbody>\n",
       "    <tr>\n",
       "      <th>0</th>\n",
       "      <td>191500.000000</td>\n",
       "      <td>26.0</td>\n",
       "      <td>52.0</td>\n",
       "      <td>1</td>\n",
       "    </tr>\n",
       "    <tr>\n",
       "      <th>1</th>\n",
       "      <td>92000.000000</td>\n",
       "      <td>32.0</td>\n",
       "      <td>50.0</td>\n",
       "      <td>0</td>\n",
       "    </tr>\n",
       "    <tr>\n",
       "      <th>2</th>\n",
       "      <td>241200.000000</td>\n",
       "      <td>28.0</td>\n",
       "      <td>35.0</td>\n",
       "      <td>1</td>\n",
       "    </tr>\n",
       "    <tr>\n",
       "      <th>3</th>\n",
       "      <td>35000.000000</td>\n",
       "      <td>35.0</td>\n",
       "      <td>40.0</td>\n",
       "      <td>1</td>\n",
       "    </tr>\n",
       "    <tr>\n",
       "      <th>4</th>\n",
       "      <td>81933.769231</td>\n",
       "      <td>32.0</td>\n",
       "      <td>20.0</td>\n",
       "      <td>1</td>\n",
       "    </tr>\n",
       "  </tbody>\n",
       "</table>\n",
       "</div>"
      ],
      "text/plain": [
       "           Venit  Varsta  Nr filme  Castigator\n",
       "0  191500.000000    26.0      52.0           1\n",
       "1   92000.000000    32.0      50.0           0\n",
       "2  241200.000000    28.0      35.0           1\n",
       "3   35000.000000    35.0      40.0           1\n",
       "4   81933.769231    32.0      20.0           1"
      ]
     },
     "execution_count": 83,
     "metadata": {},
     "output_type": "execute_result"
    }
   ],
   "source": [
    "#Eliminam coloanele non-numerice care nu influențează castigarea premiului, dar si coloana Top\n",
    "df = df.drop(\"Actori\", axis=1)\n",
    "df = df.drop(\"Nationalitate\", axis=1)\n",
    "df=df.drop(\"Top\",axis=1)\n",
    "df.head()"
   ]
  },
  {
   "cell_type": "code",
   "execution_count": 84,
   "metadata": {},
   "outputs": [],
   "source": [
    "# Variabila X este un vector (array din pachetul numpy) identic cu setul df,\n",
    "# din care a fost ștearsă coloana Castigator, iar y este un vector format din coloana Castigator\n",
    "X = np.array(df.drop(['Castigator'], 1).astype(float))\n",
    "Y = np.array(df['Castigator'])"
   ]
  },
  {
   "cell_type": "code",
   "execution_count": 85,
   "metadata": {},
   "outputs": [
    {
     "data": {
      "text/plain": [
       "KMeans(algorithm='auto', copy_x=True, init='k-means++', max_iter=300,\n",
       "       n_clusters=2, n_init=10, n_jobs=None, precompute_distances='auto',\n",
       "       random_state=None, tol=0.0001, verbose=0)"
      ]
     },
     "execution_count": 85,
     "metadata": {},
     "output_type": "execute_result"
    }
   ],
   "source": [
    "#Aplearea metodei Kmeans și setarea parametrului n_clusters = 2\n",
    "# (castigatori/necastigatori)\n",
    "kmeans = KMeans(n_clusters=2) \n",
    "kmeans.fit(X)\n"
   ]
  },
  {
   "cell_type": "code",
   "execution_count": 86,
   "metadata": {},
   "outputs": [
    {
     "name": "stdout",
     "output_type": "stream",
     "text": [
      "Estimam ca actorul va fi 1 Actorul este 1\n",
      "Estimam ca actorul va fi 0 Actorul este 0\n",
      "Estimam ca actorul va fi 1 Actorul este 1\n",
      "Estimam ca actorul va fi 0 Actorul este 1\n",
      "Estimam ca actorul va fi 0 Actorul este 1\n",
      "Estimam ca actorul va fi 0 Actorul este 1\n",
      "Estimam ca actorul va fi 0 Actorul este 0\n",
      "Estimam ca actorul va fi 0 Actorul este 1\n",
      "Estimam ca actorul va fi 0 Actorul este 0\n",
      "Estimam ca actorul va fi 0 Actorul este 0\n",
      "Estimam ca actorul va fi 0 Actorul este 0\n",
      "Estimam ca actorul va fi 0 Actorul este 1\n",
      "Estimam ca actorul va fi 0 Actorul este 0\n",
      "Estimam ca actorul va fi 0 Actorul este 1\n",
      "Estimam ca actorul va fi 0 Actorul este 0\n",
      "Am estimat corect, in medie:\n",
      "0.6\n"
     ]
    }
   ],
   "source": [
    "#Evaluarea rezultatelor:\n",
    "correct = 0\n",
    "for i in range(len(X)):\n",
    "    predict_me = np.array(X[i].astype(float))\n",
    "    predict_me = predict_me.reshape(-1, len(predict_me))\n",
    "    prediction = kmeans.predict(predict_me)\n",
    "    print(\"Estimam ca actorul va fi\", prediction[0], \"Actorul este\", Y[i])\n",
    "    if prediction[0] == Y[i]:\n",
    "        correct += 1\n",
    "        \n",
    "print('Am estimat corect, in medie:')\n",
    "print (correct/len(X))\n"
   ]
  },
  {
   "cell_type": "code",
   "execution_count": null,
   "metadata": {},
   "outputs": [],
   "source": []
  },
  {
   "cell_type": "code",
   "execution_count": null,
   "metadata": {},
   "outputs": [],
   "source": []
  }
 ],
 "metadata": {
  "kernelspec": {
   "display_name": "Python 3",
   "language": "python",
   "name": "python3"
  },
  "language_info": {
   "codemirror_mode": {
    "name": "ipython",
    "version": 3
   },
   "file_extension": ".py",
   "mimetype": "text/x-python",
   "name": "python",
   "nbconvert_exporter": "python",
   "pygments_lexer": "ipython3",
   "version": "3.7.6"
  }
 },
 "nbformat": 4,
 "nbformat_minor": 4
}
