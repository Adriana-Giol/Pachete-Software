{
 "cells": [
  {
   "cell_type": "code",
   "execution_count": 27,
   "metadata": {},
   "outputs": [
    {
     "name": "stdout",
     "output_type": "stream",
     "text": [
      "            Actor  Pozitie\n",
      "0  Park Min Young       21\n",
      "1      Lee Jun Ki       25\n"
     ]
    }
   ],
   "source": [
    "#Sursa: https://datatofish.com/string-to-integer-dataframe/\n",
    "\n",
    "#CONVERSIA UNUI STRING IN INTEGER\n",
    "import pandas as pd\n",
    "\n",
    "Data = {'Actor': ['Park Min Young','Lee Jun Ki'],\n",
    "         'Pozitie': ['21','25']}\n",
    "\n",
    "#Convesia din string in int\n",
    "df = pd.DataFrame(Data)\n",
    "df['Pozitie'] = df['Pozitie'].astype(int)\n",
    "print (df)"
   ]
  },
  {
   "cell_type": "code",
   "execution_count": null,
   "metadata": {},
   "outputs": [],
   "source": []
  }
 ],
 "metadata": {
  "kernelspec": {
   "display_name": "Python 3",
   "language": "python",
   "name": "python3"
  },
  "language_info": {
   "codemirror_mode": {
    "name": "ipython",
    "version": 3
   },
   "file_extension": ".py",
   "mimetype": "text/x-python",
   "name": "python",
   "nbconvert_exporter": "python",
   "pygments_lexer": "ipython3",
   "version": "3.7.6"
  }
 },
 "nbformat": 4,
 "nbformat_minor": 4
}
