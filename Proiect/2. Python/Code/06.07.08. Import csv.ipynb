{
 "cells": [
  {
   "cell_type": "code",
   "execution_count": 32,
   "metadata": {},
   "outputs": [
    {
     "name": "stdout",
     "output_type": "stream",
     "text": [
      "   Top          Actori     Venit  Varsta  Nr filme\n",
      "0    1    Yoo Seung Ho  191500.0      26        52\n",
      "1    2  Park Min Young   92000.0      34        50\n",
      "2    3   Park Seo Joon  241200.0      31        35\n",
      "3    4      Lee Jun Ki       NaN      37        25\n",
      "4    5   Park Jung Min   28000.0      32        20\n"
     ]
    }
   ],
   "source": [
    "#Sursa: Proiect Diana si Seminare profa\n",
    "\n",
    "#LUCRUL CU FISIER CSV\n",
    "#1. Importarea fisierului Actori.csv folosind pachetul pandas\n",
    "import pandas as pd\n",
    "import matplotlib.pyplot as plt\n",
    "df=pd.read_csv('Actori.csv', sep=',',header=0)\n",
    "print(df)"
   ]
  },
  {
   "cell_type": "code",
   "execution_count": 24,
   "metadata": {},
   "outputs": [
    {
     "name": "stdout",
     "output_type": "stream",
     "text": [
      "Park Min Young\n"
     ]
    }
   ],
   "source": [
    "#2. Folosirea funcției iloc() pentru identificarea numelui actriței\n",
    "print(df.iloc[1, 1]) #valoarea din rândul 2(pozitia 2), coloana 2(coloana cu numele actorilor)"
   ]
  },
  {
   "cell_type": "code",
   "execution_count": 25,
   "metadata": {},
   "outputs": [
    {
     "name": "stdout",
     "output_type": "stream",
     "text": [
      "34\n",
      "35\n"
     ]
    }
   ],
   "source": [
    "#3. Modificarea varstei pentru actrita Park Min Young cu ajutorul funcției loc()\n",
    "print(df.loc[1, 'Varsta'])\n",
    "df.loc[1,'Varsta'] = 35\n",
    "print(df.loc[1, 'Varsta'])"
   ]
  },
  {
   "cell_type": "code",
   "execution_count": 26,
   "metadata": {},
   "outputs": [
    {
     "name": "stdout",
     "output_type": "stream",
     "text": [
      "   Top          Actori     Venit  Varsta\n",
      "0    1    Yoo Seung Ho  191500.0      26\n",
      "1    2  Park Min Young   92000.0      35\n",
      "2    3   Park Seo Joon  241200.0      31\n",
      "3    4      Lee Jun Ki       NaN      37\n",
      "4    5   Park Jung Min   28000.0      32\n"
     ]
    }
   ],
   "source": [
    "#4. Ștergere coloanei Nr filme\n",
    "df = df.drop(\"Nr filme\", axis=1)\n",
    "print(df.head())"
   ]
  },
  {
   "cell_type": "code",
   "execution_count": 31,
   "metadata": {},
   "outputs": [
    {
     "name": "stdout",
     "output_type": "stream",
     "text": [
      "0    191500.0\n",
      "1     92000.0\n",
      "2    241200.0\n",
      "3         NaN\n",
      "4     28000.0\n",
      "Name: Venit, dtype: float64\n",
      "   Venit\n",
      "3    NaN\n",
      "----------------------------------------\n",
      "0                    191500\n",
      "1                     92000\n",
      "2                    241200\n",
      "3    Declarație nerealizată\n",
      "4                     28000\n",
      "Name: Venit, dtype: object\n"
     ]
    }
   ],
   "source": [
    "#5. Înlocuirea valorii lipsă a venitului cu mesajul Declaratie nerealizata\n",
    "df=pd.read_csv('Actori.csv', sep=',',header=0, usecols=['Venit'])\n",
    "\n",
    "# verifică dacă există valori lipsă\n",
    "print(df['Venit']) \n",
    "print(df.loc[df['Venit'].isnull()]) \n",
    "print('-'*40)\n",
    "print(df['Venit'].fillna('Declarație nerealizată')) "
   ]
  },
  {
   "cell_type": "code",
   "execution_count": 28,
   "metadata": {},
   "outputs": [
    {
     "name": "stdout",
     "output_type": "stream",
     "text": [
      "   Top          Actori     Venit  Varsta\n",
      "0    1    Yoo Seung Ho  191500.0      26\n",
      "1    2  Park Min Young   92000.0      35\n",
      "2    3   Park Seo Joon  241200.0      31\n",
      "4    5   Park Jung Min   28000.0      32\n"
     ]
    }
   ],
   "source": [
    "#6. Stergerea actorului din lista a carui declaratie despre venit lipseste - rand 3\n",
    "    #Axis 0 reprezinta randurile, iar axis 1 reprezinta coloanele\n",
    "df = df.drop([3], axis=0)\n",
    "print(df.head(10))"
   ]
  },
  {
   "cell_type": "code",
   "execution_count": null,
   "metadata": {},
   "outputs": [],
   "source": []
  }
 ],
 "metadata": {
  "kernelspec": {
   "display_name": "Python 3",
   "language": "python",
   "name": "python3"
  },
  "language_info": {
   "codemirror_mode": {
    "name": "ipython",
    "version": 3
   },
   "file_extension": ".py",
   "mimetype": "text/x-python",
   "name": "python",
   "nbconvert_exporter": "python",
   "pygments_lexer": "ipython3",
   "version": "3.7.6"
  }
 },
 "nbformat": 4,
 "nbformat_minor": 4
}
